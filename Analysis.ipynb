{
 "cells": [
  {
   "cell_type": "markdown",
   "id": "a8f114f5-70a0-4c19-9d5b-e550ab591e92",
   "metadata": {},
   "source": [
    "# Imports and Data"
   ]
  },
  {
   "cell_type": "code",
   "execution_count": 9,
   "id": "76f8ace1-c4c2-4bfd-aa12-af75b38ed61d",
   "metadata": {
    "execution": {
     "iopub.execute_input": "2023-06-15T03:53:39.842348Z",
     "iopub.status.busy": "2023-06-15T03:53:39.841237Z",
     "iopub.status.idle": "2023-06-15T03:53:40.101824Z",
     "shell.execute_reply": "2023-06-15T03:53:40.101413Z",
     "shell.execute_reply.started": "2023-06-15T03:53:39.842280Z"
    }
   },
   "outputs": [],
   "source": [
    "import pandas as pd\n",
    "import numpy as np\n",
    "\n",
    "# Source data\n",
    "source = {}\n",
    "for c in ['uk', 'it']:\n",
    "    source[c] = pd.read_csv(f\"source{c.upper()}.csv\", sep=\"\\t\", parse_dates=['time'])\n",
    "# Transient pairs of ego-alter\n",
    "pairs = {}\n",
    "for c in ['uk', 'it']:\n",
    "    pairs[c] = pd.read_csv(f\"transients{c.upper()}.csv\", sep=\"\\t\")"
   ]
  },
  {
   "cell_type": "markdown",
   "id": "d17f1cea-e7b1-48ef-8504-43282d014c36",
   "metadata": {},
   "source": [
    "## Custom histogram function"
   ]
  },
  {
   "cell_type": "code",
   "execution_count": 19,
   "id": "0f8aa35c-26f4-4df2-90c6-af312037f75f",
   "metadata": {
    "execution": {
     "iopub.execute_input": "2023-06-15T04:03:20.093128Z",
     "iopub.status.busy": "2023-06-15T04:03:20.092967Z",
     "iopub.status.idle": "2023-06-15T04:03:20.097620Z",
     "shell.execute_reply": "2023-06-15T04:03:20.097167Z",
     "shell.execute_reply.started": "2023-06-15T04:03:20.093104Z"
    }
   },
   "outputs": [],
   "source": [
    "def histogram(array, bins, log=False, countZero=False):\n",
    "    xl = sorted(list(array))\n",
    "    xo = xl[0]\n",
    "    xf = xl[-1]\n",
    "    if log:\n",
    "        lmu = np.log10(xf / xo) / bins\n",
    "        mu = 10**lmu\n",
    "    dx = (xf - xo) / bins\n",
    "    h = {}\n",
    "    if log:\n",
    "        for x in xl:\n",
    "            if x == xf:\n",
    "                h[bins - 1] = h.get(bins - 1, 0) + 1\n",
    "            else:\n",
    "                i = np.log10(x / xo) // lmu\n",
    "                h[i] = h.get(i, 0) + 1\n",
    "    else:\n",
    "        for x in xl:\n",
    "            if x == xf:\n",
    "                h[bins - 1] = h.get(bins - 1, 0) + 1\n",
    "            else:\n",
    "                i = int((x - xo) // dx)\n",
    "                h[i] = h.get(i, 0) + 1\n",
    "    df = pd.DataFrame.from_dict(h, orient='index', columns=['h'])\n",
    "    if countZero:\n",
    "        df = df.reindex(range(bins), fill_value=0)\n",
    "    df['pmf'] = df['h'].div(sum(df['h']))\n",
    "    df['pdf'] = df['pmf'] / dx\n",
    "    for i in df.index:\n",
    "        if log:\n",
    "            df.at[i, 'label'] = xo*(mu**i)\n",
    "        else:\n",
    "            df.at[i, 'label'] = xo + (dx * (i + 0.5))\n",
    "    return df"
   ]
  },
  {
   "cell_type": "markdown",
   "id": "011ad159-ea08-448b-8348-9d3f45f7a5d1",
   "metadata": {},
   "source": [
    "# Fig. 1"
   ]
  },
  {
   "cell_type": "code",
   "execution_count": 15,
   "id": "5f4d3379-ac60-4912-ab28-9a7530c57c7f",
   "metadata": {
    "execution": {
     "iopub.execute_input": "2023-06-15T03:58:40.029550Z",
     "iopub.status.busy": "2023-06-15T03:58:40.029062Z",
     "iopub.status.idle": "2023-06-15T03:58:40.215346Z",
     "shell.execute_reply": "2023-06-15T03:58:40.214932Z",
     "shell.execute_reply.started": "2023-06-15T03:58:40.029507Z"
    }
   },
   "outputs": [],
   "source": [
    "# C_o classification by ego\n",
    "stbyego = {}\n",
    "for c in pairs.keys():\n",
    "    stbyego[c] = {'stW': [], 'stE': []}\n",
    "    df = pairs[c].copy()\n",
    "    for ego in df['ego'].unique():\n",
    "        df1 = df[df['ego'] == ego].copy()\n",
    "        stW = df1[df1['stE'] == 0]\n",
    "        stbyego[c]['stW'].append(len(stW)/len(df1))\n",
    "        stE = df1[df1['stE'] == 1]\n",
    "        stbyego[c]['stE'].append(len(stE)/len(df1))"
   ]
  },
  {
   "cell_type": "code",
   "execution_count": 18,
   "id": "7e2729a9-ec72-40f6-bf89-351d0201fead",
   "metadata": {
    "execution": {
     "iopub.execute_input": "2023-06-15T04:01:24.896116Z",
     "iopub.status.busy": "2023-06-15T04:01:24.895306Z",
     "iopub.status.idle": "2023-06-15T04:01:25.378025Z",
     "shell.execute_reply": "2023-06-15T04:01:25.377585Z",
     "shell.execute_reply.started": "2023-06-15T04:01:24.896052Z"
    }
   },
   "outputs": [
    {
     "name": "stderr",
     "output_type": "stream",
     "text": [
      "/tmp/ipykernel_101146/3077088087.py:15: RuntimeWarning: divide by zero encountered in scalar divide\n",
      "  fcc1[c].at[ego, 'W'] = numtiesW / numdaysW\n"
     ]
    }
   ],
   "source": [
    "# Average daily new alter\n",
    "fcc1 = {}\n",
    "for c in ['uk', 'it']:\n",
    "    df = source[c].copy()\n",
    "    df = df[df['pair'].isin(pairs[c]['pair'])]\n",
    "    fcc1[c] = pd.DataFrame()\n",
    "    for ego in df['ego'].unique():\n",
    "        df1 = df[df['ego'] == ego]\n",
    "        start = np.datetime64(df1['time'].min(), 'D')\n",
    "        end = np.datetime64(df1['time'].max(), 'D')\n",
    "        df1W = df1[df1['DiW'].isin(range(5))]\n",
    "        if len(df1W) > 0:\n",
    "            numtiesW = len(df1W[df1W['a'] == 0]['alter'].unique())\n",
    "            numdaysW = np.busday_count(start, end)\n",
    "            fcc1[c].at[ego, 'W'] = numtiesW / numdaysW\n",
    "        else:\n",
    "            fcc1[c].at[ego, 'W'] = 0\n",
    "        df1E = df1[df1['DiW'].isin(range(5,7))]\n",
    "        if len(df1E) > 0:\n",
    "            numtiesE = len(df1E[df1E['a'] == 0]['alter'].unique())\n",
    "            numdaysE = np.busday_count(start, end, weekmask='0000011')\n",
    "            fcc1[c].at[ego, 'E'] = numtiesE / numdaysE\n",
    "        else:\n",
    "            fcc1[c].at[ego, 'E'] = 0"
   ]
  },
  {
   "cell_type": "code",
   "execution_count": 14,
   "id": "b059f669-e158-4489-aa54-5a23ee8fefd3",
   "metadata": {
    "execution": {
     "iopub.execute_input": "2023-06-15T03:56:42.280050Z",
     "iopub.status.busy": "2023-06-15T03:56:42.279891Z",
     "iopub.status.idle": "2023-06-15T03:56:42.463597Z",
     "shell.execute_reply": "2023-06-15T03:56:42.463165Z",
     "shell.execute_reply.started": "2023-06-15T03:56:42.280036Z"
    }
   },
   "outputs": [],
   "source": [
    "# C_f classification by ego\n",
    "byego = {}\n",
    "for c in pairs.keys():\n",
    "    byego[c] = {'W': [], 'E': []}\n",
    "    df = pairs[c].copy()\n",
    "    for ego in df['ego'].unique():\n",
    "        df1 = df[df['ego'] == ego].copy()\n",
    "        W = df1[df1['E'] == 0]\n",
    "        byego[c]['W'].append(len(W)/len(df1))\n",
    "        E = df1[df1['E'] == 1]\n",
    "        byego[c]['E'].append(len(E)/len(df1))"
   ]
  },
  {
   "cell_type": "markdown",
   "id": "b7c87fb3-f98f-45dc-834e-0e4f59806c17",
   "metadata": {},
   "source": [
    "# Fig 2"
   ]
  },
  {
   "cell_type": "code",
   "execution_count": 20,
   "id": "090186c6-45e0-4fcd-8e70-b687b85dfb46",
   "metadata": {
    "execution": {
     "iopub.execute_input": "2023-06-15T04:04:26.669654Z",
     "iopub.status.busy": "2023-06-15T04:04:26.669010Z",
     "iopub.status.idle": "2023-06-15T04:04:26.695816Z",
     "shell.execute_reply": "2023-06-15T04:04:26.695330Z",
     "shell.execute_reply.started": "2023-06-15T04:04:26.669594Z"
    }
   },
   "outputs": [],
   "source": [
    "# Lifetime distributions\n",
    "lftdist = {}\n",
    "for c in ['uk', 'it']:\n",
    "    lftdist[c] = {}\n",
    "    df = pairs[c].copy()\n",
    "    for i in range(2):\n",
    "        dfW = df[df[['stE', 'E'][i]] == 0]\n",
    "        HW = histogram(dfW['ell'], 10)\n",
    "        dfE = df[df[['stE', 'E'][i]] == 1]\n",
    "        HE = histogram(dfE['ell'], 10)\n",
    "        lftdist[c][['i', 'f'][i]] = {'W': HW, 'E': HE}"
   ]
  },
  {
   "cell_type": "markdown",
   "id": "1feea7bc-4fd6-49eb-bc16-2e156f33a3fa",
   "metadata": {},
   "source": [
    "# Fig. 3"
   ]
  },
  {
   "cell_type": "code",
   "execution_count": 22,
   "id": "c40f4aaf-60bc-460f-b1ae-89f57d5ac914",
   "metadata": {
    "execution": {
     "iopub.execute_input": "2023-06-15T04:07:24.933209Z",
     "iopub.status.busy": "2023-06-15T04:07:24.932557Z",
     "iopub.status.idle": "2023-06-15T04:07:24.942366Z",
     "shell.execute_reply": "2023-06-15T04:07:24.941923Z",
     "shell.execute_reply.started": "2023-06-15T04:07:24.933151Z"
    }
   },
   "outputs": [],
   "source": [
    "def settle_a(tiesdata, callslabel):\n",
    "    res = pd.DataFrame()\n",
    "    calls = source[callslabel].copy()\n",
    "    calls['DiW'] = calls['time'].map(lambda i: i.day_of_week)\n",
    "    pairs = tiesdata.copy()\n",
    "    for tie in pairs.index:\n",
    "        df = calls.loc[calls['pair'] == tie]\n",
    "        ell = pairs['ell'][tie]\n",
    "        weekend = pairs['E'][tie]\n",
    "        date = np.datetime64(df.loc[df['a'] == 0].iloc[0]['time'], 'D')\n",
    "        if np.is_busday(date):\n",
    "            Wcount = 1\n",
    "            Ecount = 0\n",
    "        else:\n",
    "            Wcount = 0\n",
    "            Ecount = 1\n",
    "        if pairs['stE'][tie] != weekend:\n",
    "            if (pairs['stE'][tie] == 0) and (weekend == 1):\n",
    "                res.at[tie, 'WE'] = 1\n",
    "                res.at[tie, 'EW'] = 0\n",
    "            elif (pairs['stE'][tie] == 1) and (weekend == 0):\n",
    "                res.at[tie, 'WE'] = 0\n",
    "                res.at[tie, 'EW'] = 1\n",
    "            for a in range(ell):\n",
    "                df1 = df.loc[df['a'] <= a]\n",
    "                if Wcount > 0:\n",
    "                    dW = df1.loc[df1['DiW'].isin(range(5))][['duration']].sum().iloc[0] / Wcount + 0.0001\n",
    "                else:\n",
    "                    dW = 0.0001\n",
    "                if Ecount > 0:\n",
    "                    dE = df1.loc[df1['DiW'].isin(range(5,7))][['duration']].sum().iloc[0] / Ecount + 0.0001\n",
    "                else:\n",
    "                    dE = 0.0001\n",
    "                ratio = dE / dW\n",
    "                if (ratio > 1) and (weekend):\n",
    "                    res.at[tie, 'a'] = a\n",
    "                    res.at[tie, 'ellp'] = a / ell\n",
    "                    break\n",
    "                elif (ratio < 1) and (not weekend):\n",
    "                    res.at[tie, 'a'] = a\n",
    "                    res.at[tie, 'ellp'] = a / ell\n",
    "                    break\n",
    "                date += 1\n",
    "                if np.is_busday(date):\n",
    "                    Wcount += 1\n",
    "                else:\n",
    "                    Ecount += 1\n",
    "    return res"
   ]
  },
  {
   "cell_type": "code",
   "execution_count": null,
   "id": "78307144-fb12-4b40-ae76-5df6c7f89602",
   "metadata": {},
   "outputs": [],
   "source": [
    "settling = {}\n",
    "for c in ['uk', 'it']:\n",
    "    settling[c] = settle_a(pairs[c]['all'], {'uk': 'ukc', 'it': 'it'}[c])"
   ]
  },
  {
   "cell_type": "markdown",
   "id": "dbfdc8de-1140-4970-a780-046a2d0439a6",
   "metadata": {},
   "source": [
    "# Fig. 4"
   ]
  },
  {
   "cell_type": "code",
   "execution_count": null,
   "id": "bbbbf6c5-9dab-4348-a19b-371729b86622",
   "metadata": {},
   "outputs": [],
   "source": [
    "from sklearn.metrics import mutual_info_score as MI"
   ]
  },
  {
   "cell_type": "code",
   "execution_count": null,
   "id": "62daca58-f1cf-4da3-8c0e-c259ea42a8e1",
   "metadata": {},
   "outputs": [],
   "source": [
    "# WARNING: This loop takes about 3 hours to run\n",
    "Ibootk = {'uk': {'i': [], 'f': []}, 'it': {'i': [], 'f': []}}\n",
    "for c in ['uk', 'it']:\n",
    "    df = pairs[c].copy()\n",
    "    Ibootk[c]['i'].append(MI(df['stE'], df['ell']) * np.log2(np.e))\n",
    "    Ibootk[c]['f'].append(MI(df['E'], df['ell']) * np.log2(np.e))\n",
    "    for rep in range(5000):\n",
    "        df1 = df.sample(frac=500, replace=True, ignore_index=True)\n",
    "        Ibootk[c]['i'].append(MI(df1['stE'], df1['ell']) * np.log2(np.e))\n",
    "        Ibootk[c]['f'].append(MI(df1['E'], df1['ell']) * np.log2(np.e))"
   ]
  }
 ],
 "metadata": {
  "kernelspec": {
   "display_name": "Python 3 (ipykernel)",
   "language": "python",
   "name": "python3"
  },
  "language_info": {
   "codemirror_mode": {
    "name": "ipython",
    "version": 3
   },
   "file_extension": ".py",
   "mimetype": "text/x-python",
   "name": "python",
   "nbconvert_exporter": "python",
   "pygments_lexer": "ipython3",
   "version": "3.11.3"
  }
 },
 "nbformat": 4,
 "nbformat_minor": 5
}
